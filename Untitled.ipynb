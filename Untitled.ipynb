{
 "cells": [
  {
   "cell_type": "markdown",
   "metadata": {},
   "source": [
    "# Создание базы данных\n",
    "Подключившись к консоли, давайте создадим простую тестовую базу данных.\n",
    "\n",
    "Сначала создайте первый спейс (с именем „tester“):"
   ]
  },
  {
   "cell_type": "code",
   "execution_count": 5,
   "metadata": {},
   "outputs": [
    {
     "name": "stdout",
     "output_type": "stream",
     "text": []
    }
   ],
   "source": [
    "s = box.schema.space.create('tester')\n",
    "-- return s"
   ]
  },
  {
   "cell_type": "code",
   "execution_count": null,
   "metadata": {},
   "outputs": [],
   "source": [
    "s3 = box.schema.space.create('tester3'); return s3"
   ]
  },
  {
   "cell_type": "code",
   "execution_count": null,
   "metadata": {},
   "outputs": [],
   "source": [
    "function XXXX(a)\n",
    "    res = {aa=a, bb=3*a}\n",
    "    return res\n",
    "end"
   ]
  },
  {
   "cell_type": "code",
   "execution_count": null,
   "metadata": {},
   "outputs": [],
   "source": [
    "return XXXX(1)"
   ]
  },
  {
   "cell_type": "code",
   "execution_count": null,
   "metadata": {},
   "outputs": [],
   "source": []
  },
  {
   "cell_type": "code",
   "execution_count": null,
   "metadata": {},
   "outputs": [],
   "source": []
  },
  {
   "cell_type": "code",
   "execution_count": null,
   "metadata": {},
   "outputs": [],
   "source": []
  },
  {
   "cell_type": "code",
   "execution_count": null,
   "metadata": {},
   "outputs": [],
   "source": []
  },
  {
   "cell_type": "code",
   "execution_count": null,
   "metadata": {},
   "outputs": [],
   "source": []
  },
  {
   "cell_type": "code",
   "execution_count": null,
   "metadata": {},
   "outputs": [],
   "source": []
  },
  {
   "cell_type": "code",
   "execution_count": null,
   "metadata": {},
   "outputs": [],
   "source": []
  },
  {
   "cell_type": "code",
   "execution_count": null,
   "metadata": {},
   "outputs": [],
   "source": []
  },
  {
   "cell_type": "code",
   "execution_count": null,
   "metadata": {},
   "outputs": [],
   "source": []
  },
  {
   "cell_type": "code",
   "execution_count": null,
   "metadata": {},
   "outputs": [],
   "source": []
  },
  {
   "cell_type": "code",
   "execution_count": null,
   "metadata": {},
   "outputs": [],
   "source": []
  },
  {
   "cell_type": "code",
   "execution_count": null,
   "metadata": {},
   "outputs": [],
   "source": []
  },
  {
   "cell_type": "markdown",
   "metadata": {},
   "source": [
    "\n",
    ">>>\n",
    "tarantool.sock> s = box.schema.space.create('tester')\n",
    "Форматируйте созданный спейс, указав имена и типы полей:\n",
    "\n",
    ">>>\n",
    "tarantool.sock> s:format({\n",
    "              > {name = 'id', type = 'unsigned'},\n",
    "              > {name = 'band_name', type = 'string'},\n",
    "              > {name = 'year', type = 'unsigned'}\n",
    "              > })\n",
    "Создайте первый индекс (с именем „primary’):\n",
    "\n",
    ">>>\n",
    "tarantool.sock> s:create_index('primary', {\n",
    "              > type = 'hash',\n",
    "              > parts = {'id'}\n",
    "              > })\n",
    "Это первичный индекс по полю „id“ в каждом кортеже.\n",
    "\n",
    "Вставьте в созданный спейс три кортежа (наш термин для «записей»):\n",
    "\n",
    ">>>\n",
    "tarantool.sock> s:insert{1, 'Roxette', 1986}\n",
    "tarantool.sock> s:insert{2, 'Scorpions', 2015}\n",
    "tarantool.sock> s:insert{3, 'Ace of Base', 1993}\n",
    "Для выборки кортежей по первичному индексу выполните команду:\n",
    "\n",
    ">>>\n",
    "tarantool.sock> s:select{3}\n",
    "Теперь вывод в окне терминала выглядит следующим образом:\n",
    "\n",
    ">>>\n",
    "tarantool.sock> s = box.schema.space.create('tester')\n",
    "---\n",
    "...\n",
    "tarantool.sock> s:format({\n",
    "              > {name = 'id', type = 'unsigned'},\n",
    "              > {name = 'band_name', type = 'string'},\n",
    "              > {name = 'year', type = 'unsigned'}\n",
    "              > })\n",
    "---\n",
    "...\n",
    "tarantool.sock> s:create_index('primary', {\n",
    "              > type = 'hash',\n",
    "              > parts = {'id'}\n",
    "              > })\n",
    "---\n",
    "- unique: true\n",
    "  parts:\n",
    "  - type: unsigned\n",
    "    is_nullable: false\n",
    "    fieldno: 1\n",
    "  id: 0\n",
    "  space_id: 512\n",
    "  name: primary\n",
    "  type: HASH\n",
    "...\n",
    "tarantool.sock> s:insert{1, 'Roxette', 1986}\n",
    "---\n",
    "- [1, 'Roxette', 1986]\n",
    "...\n",
    "tarantool.sock> s:insert{2, 'Scorpions', 2015}\n",
    "---\n",
    "- [2, 'Scorpions', 2015]\n",
    "...\n",
    "tarantool.sock> s:insert{3, 'Ace of Base', 1993}\n",
    "---\n",
    "- [3, 'Ace of Base', 1993]\n",
    "...\n",
    "tarantool.sock> s:select{3}\n",
    "---\n",
    "- - [3, 'Ace of Base', 1993]\n",
    "...\n",
    "Для добавления вторичного индекса по полю „band_name“ используйте эту команду:\n",
    "\n",
    ">>>\n",
    "tarantool.sock> s:create_index('secondary', {\n",
    "              > type = 'hash',\n",
    "              > parts = {'band_name'}\n",
    "              > })"
   ]
  },
  {
   "cell_type": "code",
   "execution_count": null,
   "metadata": {},
   "outputs": [],
   "source": []
  }
 ],
 "metadata": {
  "hide_input": false,
  "kernelspec": {
   "display_name": "NTNSimple",
   "language": "",
   "name": "tntsimplekernel"
  },
  "language_info": {
   "codemirror_mode": "shell",
   "file_extension": ".lua",
   "mimetype": "text/x-lua",
   "name": "lua"
  },
  "toc": {
   "base_numbering": 1,
   "nav_menu": {},
   "number_sections": true,
   "sideBar": true,
   "skip_h1_title": false,
   "title_cell": "Table of Contents",
   "title_sidebar": "Contents",
   "toc_cell": false,
   "toc_position": {},
   "toc_section_display": true,
   "toc_window_display": false
  }
 },
 "nbformat": 4,
 "nbformat_minor": 2
}
