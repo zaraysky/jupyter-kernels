{
 "cells": [
  {
   "cell_type": "markdown",
   "metadata": {},
   "source": [
    "## Создание базы данных\n",
    "Подключившись к консоли, давайте создадим простую тестовую базу данных.\n",
    "\n",
    "Сначала создайте первый [спейс](https://www.tarantool.io/ru/doc/2.1/book/box/data_model/#index-box-space) (с именем `tester`):"
   ]
  },
  {
   "cell_type": "code",
   "execution_count": 16,
   "metadata": {},
   "outputs": [
    {
     "name": "stdout",
     "output_type": "stream",
     "text": [
      "Error: Space 'tester' already exists"
     ]
    }
   ],
   "source": [
    "s = box.schema.space.create('Pavel2')"
   ]
  },
  {
   "cell_type": "markdown",
   "metadata": {},
   "source": [
    "Форматируйте созданный спейс, указав имена и типы полей:"
   ]
  },
  {
   "cell_type": "code",
   "execution_count": 14,
   "metadata": {},
   "outputs": [
    {
     "name": "stdout",
     "output_type": "stream",
     "text": [
      "OK"
     ]
    }
   ],
   "source": [
    "s:format {\n",
    "    {name = 'id', type = 'unsigned'},\n",
    "    {name = 'band_name', type = 'string'},\n",
    "    {name = 'year', type = 'unsigned'}\n",
    "}"
   ]
  },
  {
   "cell_type": "markdown",
   "metadata": {},
   "source": [
    "Создайте первый [индекс](https://www.tarantool.io/ru/doc/2.1/book/box/data_model/#index-box-index) (с именем „primary’):"
   ]
  },
  {
   "cell_type": "code",
   "execution_count": 3,
   "metadata": {},
   "outputs": [
    {
     "name": "stdout",
     "output_type": "stream",
     "text": [
      "OK"
     ]
    }
   ],
   "source": [
    "s:create_index('primary', {\n",
    "    type = 'hash',\n",
    "    parts = {'id'}\n",
    "    }\n",
    ")"
   ]
  },
  {
   "cell_type": "markdown",
   "metadata": {},
   "source": [
    "Это первичный индекс по полю „id“ в каждом кортеже.\n",
    "Вставьте в созданный спейс три [кортежа](https://www.tarantool.io/ru/doc/2.1/book/box/data_model/#index-box-tuple) (наш термин для «записей»):"
   ]
  },
  {
   "cell_type": "code",
   "execution_count": 4,
   "metadata": {},
   "outputs": [
    {
     "name": "stdout",
     "output_type": "stream",
     "text": [
      "OK"
     ]
    }
   ],
   "source": [
    "s:insert{1, 'Roxette', 1986}\n",
    "s:insert{2, 'Scorpions', 2015}\n",
    "s:insert{3, 'Ace of Base', 1993}"
   ]
  },
  {
   "cell_type": "markdown",
   "metadata": {},
   "source": [
    "Для выборки кортежей по первичному индексу выполните команду `select`:"
   ]
  },
  {
   "cell_type": "code",
   "execution_count": 8,
   "metadata": {},
   "outputs": [
    {
     "name": "stdout",
     "output_type": "stream",
     "text": [
      "2\tScorpions\t2015"
     ]
    }
   ],
   "source": [
    "result = s:select{2}\n",
    "return result"
   ]
  },
  {
   "cell_type": "code",
   "execution_count": 17,
   "metadata": {},
   "outputs": [
    {
     "name": "stdout",
     "output_type": "stream",
     "text": [
      "Error: Space 'Pavel2' does not exist"
     ]
    }
   ],
   "source": [
    "s:drop()"
   ]
  },
  {
   "cell_type": "markdown",
   "metadata": {},
   "source": [
    "Другой пример с комментами по тексту"
   ]
  },
  {
   "cell_type": "code",
   "execution_count": 10,
   "metadata": {},
   "outputs": [
    {
     "name": "stdout",
     "output_type": "stream",
     "text": [
      "2\tY\tRow with field[2]=Y\n",
      "3\tZ\tRow with field[2]=Z"
     ]
    }
   ],
   "source": [
    "\n",
    "-- Создать спейс под названием tester.\n",
    "sp = box.schema.space.create('tester')\n",
    "-- Создать уникальный индекс 'primary'\n",
    "-- который не будет нужен для данного примера..\n",
    "\n",
    "sp:create_index('primary', {parts = {1, 'unsigned' }})\n",
    "-- Создать неуникальный индекс 'secondary'\n",
    "-- по второму полю.\n",
    "sp:create_index('secondary', {\n",
    "          type = 'tree',\n",
    "          unique = false,\n",
    "          parts = {2, 'string'}\n",
    "          })\n",
    "-- Вставить три кортежа, значения в поле2 field[2]\n",
    "-- равны 'X', 'Y' и 'Z'.\n",
    "sp:insert{1, 'X', 'Row with field[2]=X'}\n",
    "sp:insert{2, 'Y', 'Row with field[2]=Y'}\n",
    "sp:insert{3, 'Z', 'Row with field[2]=Z'}\n",
    "-- Выбрать все кортежи, где вторичные ключи\n",
    "-- больше, чем 'X'.\n",
    "result = sp.index.secondary:select({'X'}, {\n",
    "          iterator = 'GT',\n",
    "          limit = 1000\n",
    "          })\n",
    "return result"
   ]
  },
  {
   "cell_type": "code",
   "execution_count": null,
   "metadata": {},
   "outputs": [],
   "source": [
    "aaa."
   ]
  }
 ],
 "metadata": {
  "kernelspec": {
   "display_name": "TNTSimple",
   "language": "",
   "name": "tntsimplekernel"
  },
  "language_info": {
   "codemirror_mode": "shell",
   "file_extension": ".lua",
   "mimetype": "text/x-lua",
   "name": "lua"
  }
 },
 "nbformat": 4,
 "nbformat_minor": 2
}
