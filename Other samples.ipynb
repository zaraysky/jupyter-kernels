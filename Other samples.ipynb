{
 "cells": [
  {
   "cell_type": "code",
   "execution_count": 3,
   "metadata": {},
   "outputs": [
    {
     "name": "stdout",
     "output_type": "stream",
     "text": [
      "{\n",
      "    \"background\": false,\n",
      "    \"checkpoint_count\": 2,\n",
      "    \"checkpoint_interval\": 3600,\n",
      "    \"coredump\": false,\n",
      "    \"feedback_enabled\": true,\n",
      "    \"feedback_host\": \"https://feedback.tarantool.io\",\n",
      "    \"feedback_interval\": 3600,\n",
      "    \"force_recovery\": false,\n",
      "    \"hot_standby\": false,\n",
      "    \"listen\": \"3300\",\n",
      "    \"log_format\": \"plain\",\n",
      "    \"log_level\": 5,\n",
      "    \"log_nonblock\": true,\n",
      "    \"memtx_dir\": \".\",\n",
      "    \"memtx_max_tuple_size\": 1048576,\n",
      "    \"memtx_memory\": 268435456,\n",
      "    \"memtx_min_tuple_size\": 16,\n",
      "    \"net_msg_max\": 768,\n",
      "    \"read_only\": false,\n",
      "    \"readahead\": 16320,\n",
      "    \"replication_connect_timeout\": 30,\n",
      "    \"replication_skip_conflict\": false,\n",
      "    \"replication_sync_lag\": 10,\n",
      "    \"replication_sync_timeout\": 300,\n",
      "    \"replication_timeout\": 1,\n",
      "    \"rows_per_wal\": 500000,\n",
      "    \"slab_alloc_factor\": 1.05,\n",
      "    \"too_long_threshold\": 0.5,\n",
      "    \"vinyl_bloom_fpr\": 0.05,\n",
      "    \"vinyl_cache\": 134217728,\n",
      "    \"vinyl_dir\": \".\",\n",
      "    \"vinyl_max_tuple_size\": 1048576,\n",
      "    \"vinyl_memory\": 134217728,\n",
      "    \"vinyl_page_size\": 8192,\n",
      "    \"vinyl_range_size\": 1073741824,\n",
      "    \"vinyl_read_threads\": 1,\n",
      "    \"vinyl_run_count_per_level\": 2,\n",
      "    \"vinyl_run_size_ratio\": 3.5,\n",
      "    \"vinyl_timeout\": 60,\n",
      "    \"vinyl_write_threads\": 4,\n",
      "    \"wal_dir\": \".\",\n",
      "    \"wal_dir_rescan_delay\": 2,\n",
      "    \"wal_max_size\": 268435456,\n",
      "    \"wal_mode\": \"write\",\n",
      "    \"worker_pool_threads\": 4\n",
      "}"
     ]
    }
   ],
   "source": [
    "return box.cfg"
   ]
  },
  {
   "cell_type": "code",
   "execution_count": 4,
   "metadata": {},
   "outputs": [
    {
     "name": "stdout",
     "output_type": "stream",
     "text": [
      "<class 'NoneType'> : None"
     ]
    }
   ],
   "source": [
    "arr = {\n",
    "    name = 'Aaron',\n",
    "    lastname = 'Mozes',\n",
    "    phone = '+133455572989'\n",
    "}"
   ]
  },
  {
   "cell_type": "code",
   "execution_count": 1,
   "metadata": {},
   "outputs": [
    {
     "name": "stdout",
     "output_type": "stream",
     "text": [
      "{\n",
      "    \"lastname\": \"Mozes\",\n",
      "    \"name\": \"Aaron\",\n",
      "    \"phone\": \"+133455572989\"\n",
      "}"
     ]
    }
   ],
   "source": [
    "return(arr)"
   ]
  },
  {
   "cell_type": "code",
   "execution_count": null,
   "metadata": {},
   "outputs": [],
   "source": []
  },
  {
   "cell_type": "code",
   "execution_count": null,
   "metadata": {},
   "outputs": [],
   "source": []
  }
 ],
 "metadata": {
  "kernelspec": {
   "display_name": "TNTSimple",
   "language": "",
   "name": "tntsimplekernel"
  },
  "language_info": {
   "codemirror_mode": "shell",
   "file_extension": ".lua",
   "mimetype": "text/x-lua",
   "name": "lua"
  }
 },
 "nbformat": 4,
 "nbformat_minor": 2
}
