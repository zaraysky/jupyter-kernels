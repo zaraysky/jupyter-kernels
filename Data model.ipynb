{
 "cells": [
  {
   "cell_type": "markdown",
   "metadata": {},
   "source": [
    "# Создание базы данных\n",
    "Подключившись к консоли, давайте создадим простую тестовую базу данных.\n",
    "\n",
    "Сначала создайте первый спейс с именем `tester`:"
   ]
  },
  {
   "cell_type": "code",
   "execution_count": 1,
   "metadata": {},
   "outputs": [],
   "source": [
    "s = box.schema.space.create('tester')"
   ]
  },
  {
   "cell_type": "markdown",
   "metadata": {},
   "source": [
    "Форматируйте созданный спейс, указав имена и типы полей:"
   ]
  },
  {
   "cell_type": "code",
   "execution_count": 2,
   "metadata": {},
   "outputs": [],
   "source": [
    "s:format({\n",
    "    {name = 'id', type = 'unsigned'},\n",
    "    {name = 'band_name', type = 'string'},\n",
    "    {name = 'year', type = 'unsigned'}\n",
    "})"
   ]
  },
  {
   "cell_type": "markdown",
   "metadata": {},
   "source": [
    "Создайте первый индекс с именем `primary`:"
   ]
  },
  {
   "cell_type": "code",
   "execution_count": 3,
   "metadata": {},
   "outputs": [],
   "source": [
    "s:create_index('primary', {\n",
    "    type = 'hash',\n",
    "    parts = {'id'}\n",
    "})"
   ]
  },
  {
   "cell_type": "markdown",
   "metadata": {},
   "source": [
    "Это первичный индекс по полю „id“ в каждом кортеже.\n",
    "\n",
    "Вставьте в созданный спейс три кортежа (наш термин для «записей»):"
   ]
  },
  {
   "cell_type": "code",
   "execution_count": 4,
   "metadata": {},
   "outputs": [],
   "source": [
    "s:insert{1, 'Roxette', 1986}\n",
    "s:insert{2, 'Scorpions', 2015}\n",
    "s:insert{3, 'Ace of Base', 1993}"
   ]
  },
  {
   "cell_type": "markdown",
   "metadata": {},
   "source": [
    "Для выборки кортежей по первичному индексу выполните команду:"
   ]
  },
  {
   "cell_type": "code",
   "execution_count": 14,
   "metadata": {},
   "outputs": [
    {
     "name": "stdout",
     "output_type": "stream",
     "text": [
      "- error: 'No index #0 is defined in space ''tester'''"
     ]
    }
   ],
   "source": [
    "s:select{2}"
   ]
  },
  {
   "cell_type": "markdown",
   "metadata": {},
   "source": [
    "Для добавления вторичного индекса по полю `band_name` используйте эту команду:"
   ]
  },
  {
   "cell_type": "code",
   "execution_count": 6,
   "metadata": {},
   "outputs": [],
   "source": [
    "s:create_index('secondary', {\n",
    "    type = 'hash',\n",
    "    parts = {'band_name'}\n",
    "})"
   ]
  },
  {
   "cell_type": "markdown",
   "metadata": {},
   "source": [
    "Для выборки кортежей по вторичному индексу выполните команду:"
   ]
  },
  {
   "cell_type": "code",
   "execution_count": 7,
   "metadata": {},
   "outputs": [],
   "source": [
    "s.index.secondary:select{'Roxette'}"
   ]
  },
  {
   "cell_type": "markdown",
   "metadata": {},
   "source": [
    "Удалите созданный спейс"
   ]
  },
  {
   "cell_type": "code",
   "execution_count": 13,
   "metadata": {},
   "outputs": [
    {
     "name": "stdout",
     "output_type": "stream",
     "text": [
      "- error: Space 'tester' does not exist"
     ]
    }
   ],
   "source": [
    "s:drop()"
   ]
  },
  {
   "cell_type": "code",
   "execution_count": 9,
   "metadata": {},
   "outputs": [],
   "source": [
    "function sqr(x)\n",
    "    return x ^ 2\n",
    "end"
   ]
  },
  {
   "cell_type": "code",
   "execution_count": 12,
   "metadata": {},
   "outputs": [
    {
     "name": "stdout",
     "output_type": "stream",
     "text": [
      "- 16"
     ]
    }
   ],
   "source": [
    "sqr(4)"
   ]
  },
  {
   "cell_type": "code",
   "execution_count": 11,
   "metadata": {},
   "outputs": [],
   "source": [
    "print('xxx')"
   ]
  },
  {
   "cell_type": "code",
   "execution_count": null,
   "metadata": {},
   "outputs": [],
   "source": []
  }
 ],
 "metadata": {
  "kernelspec": {
   "display_name": "TNTSimple",
   "language": "",
   "name": "tntsimplekernel"
  },
  "language_info": {
   "codemirror_mode": "shell",
   "file_extension": ".lua",
   "mimetype": "text/x-lua",
   "name": "lua"
  }
 },
 "nbformat": 4,
 "nbformat_minor": 2
}
